{
 "cells": [
  {
   "cell_type": "code",
   "execution_count": 1,
   "metadata": {},
   "outputs": [],
   "source": [
    "import matplotlib.pyplot as plt\n",
    "import numpy as np\n",
    "%matplotlib inline"
   ]
  },
  {
   "cell_type": "markdown",
   "metadata": {
    "hide_input": true
   },
   "source": [
    "# PHYS 4247 Integration Tutorial\n",
    "\n",
    "## Author: Christopher Evans (`cevans216@gatech.edu`)\n",
    "\n",
    "Frequently in physics you will come across integrals that cannot be solved analytically. For example, a function defined by output from a physical sensor or a numerical simulation is only known at a discrete sampling of points and thus can’t be integrated analytically. Even if an analytical expression for the integrand is known, there is no guarantee that the integral has a closed-form expression.  One well-known example of this is the error function \n",
    "\n",
    "$$ \\mathrm{erf} z = \\frac{2}{\\sqrt{\\pi}} \\int_0^z e^{-x^2}\\, dx $$\n",
    "\n",
    "which is proportional to the normal cumulative distribution function.\n",
    "\n",
    "Often the best approach to solving definite integrals like these is to use numerical integration.\n",
    "\n",
    "## Numerical Integration\n",
    "\n",
    "The goal here is to approximate the continous integral\n",
    "\n",
    "$$ \\int_a^b f(x)\\,dx $$\n",
    "\n",
    "with a finite sum $I_n$ that depends only on a _discrete_ sampling of the integrand $\\left(x_j, f(x_j)\\right)$ within the integral bounds $a \\leq x_j \\leq b$. A numerical integration scheme consists primarily of two components:\n",
    "\n",
    "1. **Discretization**: Dividing the integration interval into smaller sub-intervals over which $f(x)$ can be locally well-approximated by simpler functions.\n",
    "2. **Quadrature**: Approximating the area under $f(x)$ for each sub-interval.\n",
    "\n",
    "Within the scope of this tutorial, all numerical integration schemes will take the same approach to discretization as outlined below.\n",
    "\n",
    "### Discretization\n",
    "\n",
    "Partition the interval $(a, b)$ into $n$ _uniform_ sub-intervals\n",
    "\n",
    "$$ \\left( x_0, x_1 \\right),\\; \\left(x_1, x_2 \\right),\\; \\ldots,\\; \\left( x_{n-1}, x_n \\right) $$\n",
    "\n",
    "each with width\n",
    "\n",
    "$$ \\Delta x = x_{j+1} - x_j = \\frac{b-a}{n} $$\n",
    "\n",
    "The $n+1$ endpoints are then\n",
    "\n",
    "$$ x_j = a + j\\Delta x\\;;\\; j = 0,1,\\ldots,n $$\n",
    "\n",
    "### Quadrature rules\n",
    "\n",
    "The integral can then be calculated as the sum of the area under $f(x)$ for each sub-interval, as determined by a given quadrature rule. Since we can't integrate $f(x)$ analytically, this will invariably involve some sort of approximation.\n",
    "\n",
    "The absolute error of the numerical integration $I_n$ is given by\n",
    "\n",
    "$$ E_n = \\left| \\int_a^b f(x)\\,dx - I_n \\right| $$\n",
    "\n",
    "When deciding what integration method to use, one of the most important things to look at is the convergence of the method. Any decent method should converge to the exact value of the integral in the limit of $n \\rightarrow \\infty$, however the important question is how quickly this happens. Barring other considerations, a method with a higher convergence rate is preferable since it will require fewer points to achieve a desired level of accuracy. Typically the convergence rate of a integration scheme is quantified by finding an upper bound for the absolute error and determining how it depends on $n$.\n",
    "\n",
    "Many of the most commonly used quadrature rules come from constructing interpolating functions that are very simple to integrate, usually polynomials. As an example I will implement the simplest of these, the midpoint rule, which approximates the integrand as constant (a polynomial of degree zero) over the sub-\n",
    "interval.\n",
    "\n",
    "### The midpoint rule\n",
    "\n",
    "The midpoint rule approximates $f(x)$ as constant over the sub-interval $\\left( x_j, x_{j+1} \\right)$ and equal to its value at the midpoint \n",
    "\n",
    "$$ x_{j + 1/2} = \\frac{1}{2} \\left( x_j + x_{j+1} \\right) = x_j + \\Delta x/2 $$\n",
    "\n",
    "as illustrated in the figure below.\n",
    "\n",
    "![alt text](integration-comparison.png \"Title\")\n",
    "\n",
    "Therefore the approximate area is\n",
    "\n",
    "$$ A_j = f\\left( x_{j+1/2} \\right) \\Delta x $$"
   ]
  },
  {
   "cell_type": "markdown",
   "metadata": {},
   "source": [
    "In order to implement this, I define a function called `integrate_midpoint` that takes the arguments\n",
    "\n",
    "- `f`: The integrand function $f(x)$\n",
    "- `a`: Lower integration bound\n",
    "- `b`: Upper integration bound\n",
    "- `n`: Number of sub-intervals for the discretization\n",
    "\n",
    "and returns the result of the numerical integration `integral` using the following procedure\n",
    "\n",
    "1. Calculate the $n+1$ end points $x_j$ and the sub-interval width $\\Delta x$\n",
    "2. Initialize `integral` to zero.\n",
    "3. Iterate from $j = 0$ to $j = n-1$:\n",
    "    1. Calculate the midpoint $x_{j+1/2}$\n",
    "    2. Add the area $f(x_{j+1/2}) \\Delta x$ to `integral`"
   ]
  },
  {
   "cell_type": "code",
   "execution_count": 2,
   "metadata": {},
   "outputs": [],
   "source": [
    "def integrate_midpoint(f, a, b, n):\n",
    "    x = np.linspace(a, b, num=n+1)\n",
    "    dx = (b-a)/n\n",
    "    \n",
    "    integral = 0\n",
    "    for j in range(n):\n",
    "        xmid = (x[j] + x[j+1])/2\n",
    "        integral += f(xmid)*dx\n",
    "    \n",
    "    return integral"
   ]
  },
  {
   "cell_type": "markdown",
   "metadata": {},
   "source": [
    "We can check this against an integral that we can solve analytically\n",
    "\n",
    "$$ \\int_0^\\pi \\sin (x)\\,dx = 2 $$\n",
    "\n",
    "using $n = 1000$"
   ]
  },
  {
   "cell_type": "code",
   "execution_count": 3,
   "metadata": {},
   "outputs": [
    {
     "data": {
      "text/plain": [
       "2.0000008224672694"
      ]
     },
     "execution_count": 3,
     "metadata": {},
     "output_type": "execute_result"
    }
   ],
   "source": [
    "integrate_midpoint(np.sin, 0, np.pi, 1000)"
   ]
  },
  {
   "cell_type": "markdown",
   "metadata": {},
   "source": [
    "For the midpoint rule, the absolute error can be bounded by\n",
    "\n",
    "$$ \\left| \\int_a^b f(x)\\,dx - I_n \\right| \\leq \\frac{(b-a)^3}{24 n^2} \\max_{a \\leq x \\leq b} \\left| f''(x) \\right| $$\n",
    "\n",
    "Which means that the total error should drop off as $n^{-2}$. We can verify this by performing the integration with various values of $n$:"
   ]
  },
  {
   "cell_type": "code",
   "execution_count": 4,
   "metadata": {},
   "outputs": [
    {
     "name": "stdout",
     "output_type": "stream",
     "text": [
      "Power law index E ~ n^a: a = -2.00017\n"
     ]
    },
    {
     "data": {
      "image/png": "[encoded data removed]",
      "text/plain": [
       "<Figure size 432x288 with 1 Axes>"
      ]
     },
     "metadata": {
      "needs_background": "light"
     },
     "output_type": "display_data"
    }
   ],
   "source": [
    "nvals = np.arange(10, 1010, 10)\n",
    "integrals = np.array([integrate_midpoint(np.sin, 0, np.pi, n) for n in nvals])\n",
    "error = np.abs(2 - integrals)\n",
    "\n",
    "powerlaw_index = np.polyfit(np.log(nvals), np.log(error), 1)[0]\n",
    "print(f'Power law index E ~ n^a: a = {powerlaw_index:.5f}')\n",
    "\n",
    "fig = plt.figure()\n",
    "plt.semilogy(nvals, error);\n",
    "plt.xlabel(r'$n$');\n",
    "plt.ylabel(r'Absolute error');\n",
    "plt.grid();"
   ]
  },
  {
   "cell_type": "code",
   "execution_count": null,
   "metadata": {},
   "outputs": [],
   "source": []
  }
 ],
 "metadata": {
  "kernelspec": {
   "display_name": "Python 3",
   "language": "python",
   "name": "python3"
  },
  "language_info": {
   "codemirror_mode": {
    "name": "ipython",
    "version": 3
   },
   "file_extension": ".py",
   "mimetype": "text/x-python",
   "name": "python",
   "nbconvert_exporter": "python",
   "pygments_lexer": "ipython3",
   "version": "3.8.1"
  }
 },
 "nbformat": 4,
 "nbformat_minor": 2
}
